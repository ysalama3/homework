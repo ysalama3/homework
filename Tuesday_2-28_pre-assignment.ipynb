{
 "cells": [
  {
   "cell_type": "markdown",
   "metadata": {},
   "source": [
    "**Challenge 1**"
   ]
  },
  {
   "cell_type": "markdown",
   "metadata": {},
   "source": [
    "Which of the following are valid R variable names?"
   ]
  },
  {
   "cell_type": "markdown",
   "metadata": {},
   "source": [
    "The following can be used as R variables:                              \n",
    "min_height                                                               \n",
    "max.height                                                                 \n",
    "MaxLength                                                                \n",
    "celsius2kelvin                                                            \n"
   ]
  },
  {
   "cell_type": "markdown",
   "metadata": {},
   "source": [
    "**Challenge 2**"
   ]
  },
  {
   "cell_type": "markdown",
   "metadata": {},
   "source": [
    "> mass <- 47.5                                                        \n",
    "> mass                                                                \n",
    "[1] 47.5                                                                  \n",
    "> age <- 122                                                            \n",
    "> age                                                                  \n",
    "[1] 122                                                                  \n",
    "> mass <- mass * 2.3                                                     \n",
    "> mass                                                                    \n",
    "[1] 109.25                                                               \n",
    "> age <- age - 20                                                        \n",
    "> age                                                                 \n",
    "[1]102                                                                                                                                                    "
   ]
  },
  {
   "cell_type": "markdown",
   "metadata": {},
   "source": [
    "**Challenge 3**"
   ]
  },
  {
   "cell_type": "markdown",
   "metadata": {},
   "source": [
    "> mass > age                                                            \n",
    "[1] TRUE                                                                 "
   ]
  },
  {
   "cell_type": "markdown",
   "metadata": {},
   "source": [
    "**Challenge 4**"
   ]
  },
  {
   "cell_type": "markdown",
   "metadata": {},
   "source": [
    ">rm(age, mass)"
   ]
  },
  {
   "cell_type": "markdown",
   "metadata": {},
   "source": [
    "**Challenge 5**"
   ]
  },
  {
   "cell_type": "markdown",
   "metadata": {},
   "source": [
    ">install.packages(\"ggplot2\")                                               \n",
    ">install.packages(\"plyr\")                                                 \n",
    ">install.packages(\"gapminder\")                                            "
   ]
  },
  {
   "cell_type": "code",
   "execution_count": null,
   "metadata": {
    "collapsed": true
   },
   "outputs": [],
   "source": []
  }
 ],
 "metadata": {
  "kernelspec": {
   "display_name": "Python 3",
   "language": "python",
   "name": "python3"
  },
  "language_info": {
   "codemirror_mode": {
    "name": "ipython",
    "version": 3
   },
   "file_extension": ".py",
   "mimetype": "text/x-python",
   "name": "python",
   "nbconvert_exporter": "python",
   "pygments_lexer": "ipython3",
   "version": "3.5.2"
  }
 },
 "nbformat": 4,
 "nbformat_minor": 2
}
