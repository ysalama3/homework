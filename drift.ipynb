{
 "cells": [
  {
   "cell_type": "markdown",
   "metadata": {},
   "source": []
  },
  {
   "cell_type": "markdown",
   "metadata": {},
   "source": [
    "**Part III**"
   ]
  },
  {
   "cell_type": "markdown",
   "metadata": {},
   "source": [
    "Read Chapter 4 of Allesina and Wilmes (pages 89-97 of thie pdf file:                       AllesinaWilmesCSfB_March16.pdf (we don't yet have the updated version of this chapter).       \n",
    "\n",
    "Write the simulation program described in section 4.3.2 starting on page 93.                   \n",
    "Do part 1 of question 4.9.1 using this data set                                             \n",
    "Bonus: do part 2.                                                                       \n",
    "Bonus bonus: do part 3.                                                                 "
   ]
  },
  {
   "cell_type": "code",
   "execution_count": 32,
   "metadata": {
    "collapsed": true
   },
   "outputs": [],
   "source": [
    "#A function that initializes the population. It should take as input the sizeof the population (N ), and the probability of having an A allele (p) and return a population object.\n",
    "#A function that computes the genotypic frequencies, which we will needto determine whether an allele has gone to fixation. The function shouldtake a population object as input and output the count for each genotype.\n",
    "#A reproduction function that takes the current population and produces the next generation."
   ]
  },
  {
   "cell_type": "code",
   "execution_count": 37,
   "metadata": {
    "collapsed": false
   },
   "outputs": [],
   "source": [
    "#We start by importing scipy , which we will use to draw random numbers,and we write the first function, generating a population\n",
    "import scipy # for random numbers\n",
    "def build_population(N, p):\n",
    "    \"\"\"The population consists of N individuals.\n",
    "    Each individual has two chromosomes, containing\n",
    "    allele \"A\" or \"a\", with probability p and 1-p,\n",
    "    respectively.\n",
    "    \n",
    "    The population is a list of tuples.\n",
    "    \"\"\"\n",
    "    population = []\n",
    "    for i in range(N):\n",
    "        allele1 = \"A\"\n",
    "        if scipy.random.rand() > p:\n",
    "            allele1 = \"a\"\n",
    "        allele2 = \"A\"\n",
    "        if scipy.random.rand() > p:\n",
    "            allele2 = \"a\"\n",
    "        population.append((allele1, allele2))\n",
    "    return population"
   ]
  },
  {
   "cell_type": "code",
   "execution_count": 3,
   "metadata": {
    "collapsed": false
   },
   "outputs": [],
   "source": [
    "#build_population(10, 0.7)"
   ]
  },
  {
   "cell_type": "code",
   "execution_count": 59,
   "metadata": {
    "collapsed": false
   },
   "outputs": [],
   "source": [
    "#Now we write the second function, which is used to produce a genotype count for the population:\n",
    "def compute_frequencies(population):\n",
    "    \"\"\" Count the genotypes.\n",
    "        Returns a dictionary with counts for each genotype.\n",
    "    \"\"\"\n",
    "    AA = population.count(( 'A', 'A'))\n",
    "    Aa = population.count(('A', 'a'))\n",
    "    aA = population.count(('a', 'A'))\n",
    "    aa = population.count(('a', 'a'))\n",
    "    return({'AA': AA,\n",
    "          'aa': aa,\n",
    "          'Aa': Aa,\n",
    "          'aA': aA})"
   ]
  },
  {
   "cell_type": "code",
   "execution_count": 4,
   "metadata": {
    "collapsed": false
   },
   "outputs": [],
   "source": [
    "#my_pop = build_population(6, 0.5)\n",
    "#my_pop"
   ]
  },
  {
   "cell_type": "code",
   "execution_count": 5,
   "metadata": {
    "collapsed": false
   },
   "outputs": [],
   "source": [
    "#compute_frequencies(my_pop)"
   ]
  },
  {
   "cell_type": "code",
   "execution_count": 62,
   "metadata": {
    "collapsed": false
   },
   "outputs": [],
   "source": [
    "def reproduce_population(population):\n",
    "    \"\"\" Create a new generation through sexual reproduction\n",
    "        For each of N new offspring:\n",
    "        - Choose the parents at random\n",
    "        - The offspring receives a chromosomes from each of\n",
    "            the parents\n",
    "    \"\"\"\n",
    "    new_generation = []\n",
    "    N = len(population)\n",
    "    for i in range(N):\n",
    "        dad = scipy.random.randint(N) # random integerbetween 0 and N-1\n",
    "        mom = scipy.random.randint(N)\n",
    "        chr_mom = scipy.random.randint(2) # which chromosome comes from mom\n",
    "        offspring = (population[mom][chr_mom], population[\n",
    "            dad][1 - chr_mom])\n",
    "        new_generation.append(offspring)\n",
    "    return(new_generation)"
   ]
  },
  {
   "cell_type": "code",
   "execution_count": 6,
   "metadata": {
    "collapsed": false
   },
   "outputs": [],
   "source": [
    "#reproduce_population(my_pop)"
   ]
  },
  {
   "cell_type": "code",
   "execution_count": 55,
   "metadata": {
    "collapsed": true
   },
   "outputs": [],
   "source": [
    "\n",
    "\n",
    "\n"
   ]
  },
  {
   "cell_type": "code",
   "execution_count": null,
   "metadata": {
    "collapsed": true
   },
   "outputs": [],
   "source": []
  }
 ],
 "metadata": {
  "anaconda-cloud": {},
  "kernelspec": {
   "display_name": "Python [conda root]",
   "language": "python",
   "name": "conda-root-py"
  },
  "language_info": {
   "codemirror_mode": {
    "name": "ipython",
    "version": 3
   },
   "file_extension": ".py",
   "mimetype": "text/x-python",
   "name": "python",
   "nbconvert_exporter": "python",
   "pygments_lexer": "ipython3",
   "version": "3.5.2"
  }
 },
 "nbformat": 4,
 "nbformat_minor": 2
}
